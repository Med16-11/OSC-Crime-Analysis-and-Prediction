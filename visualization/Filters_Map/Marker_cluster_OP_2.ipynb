{
 "cells": [
  {
   "cell_type": "code",
   "execution_count": 2,
   "id": "a7a2a210",
   "metadata": {},
   "outputs": [],
   "source": [
    "import folium\n",
    "from folium.plugins import MarkerCluster\n",
    "import random\n",
    "\n",
    "\n",
    "ut_map_lc = folium.Map([28.016496, 78.572188], zoom_start=7)\n",
    "\n",
    "markerLocs = [[random.uniform(25, 30), random.uniform(75, 80)]\n",
    "              for x in range(50)]\n",
    "\n",
    "mCluster = MarkerCluster(name=\"Markers Demo\").add_to(ut_map_lc)\n",
    "\n",
    "for pnt in markerLocs:\n",
    "    folium.Marker(location=[pnt[0], pnt[1]],\n",
    "                  popup=\"pnt - {0}, {1}\".format(pnt[0], pnt[1])).add_to(mCluster)\n",
    "\n",
    "folium.LayerControl().add_to(ut_map_lc)\n",
    "\n",
    "ut_map_lc.save('crime_mapping_marker_cluster.html')\n"
   ]
  },
  {
   "cell_type": "code",
   "execution_count": null,
   "id": "9d357fb5",
   "metadata": {},
   "outputs": [],
   "source": []
  },
  {
   "cell_type": "code",
   "execution_count": null,
   "id": "fcd17a2f",
   "metadata": {},
   "outputs": [],
   "source": []
  },
  {
   "cell_type": "code",
   "execution_count": null,
   "id": "f8e7c0c0",
   "metadata": {},
   "outputs": [],
   "source": []
  }
 ],
 "metadata": {
  "kernelspec": {
   "display_name": "Python 3 (ipykernel)",
   "language": "python",
   "name": "python3"
  },
  "language_info": {
   "codemirror_mode": {
    "name": "ipython",
    "version": 3
   },
   "file_extension": ".py",
   "mimetype": "text/x-python",
   "name": "python",
   "nbconvert_exporter": "python",
   "pygments_lexer": "ipython3",
   "version": "3.9.12"
  }
 },
 "nbformat": 4,
 "nbformat_minor": 5
}
