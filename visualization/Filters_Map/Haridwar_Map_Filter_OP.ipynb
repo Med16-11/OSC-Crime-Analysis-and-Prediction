{
 "cells": [
  {
   "cell_type": "code",
   "execution_count": 1,
   "id": "b3c4d7f5",
   "metadata": {},
   "outputs": [],
   "source": [
    "import folium\n",
    "from folium import plugins\n",
    "import ipywidgets\n",
    "import geocoder\n",
    "import geopy\n",
    "import pandas as pd\n",
    "import numpy as np\n",
    "#from vega_datasets import data as vds\n",
    "import plotly.express as px\n",
    "import json"
   ]
  },
  {
   "cell_type": "code",
   "execution_count": 2,
   "id": "f17cd243",
   "metadata": {},
   "outputs": [],
   "source": [
    "criminal_csv = pd.read_csv(\"Final_DATASET - CRIME_ME.csv\") # read the data\n",
    "\n",
    "criminal_csv_1 = criminal_csv\n",
    "\n",
    "df_criminal_org = pd.DataFrame(criminal_csv_1) # transfer to dataframe\n",
    "df_criminal_org.dropna(inplace=True)\n",
    "df_criminal_org.drop('Unnamed: 0', axis=1, inplace=True)\n"
   ]
  },
  {
   "cell_type": "code",
   "execution_count": 3,
   "id": "7f1fd929",
   "metadata": {},
   "outputs": [],
   "source": [
    "df_criminal_org_1 = df_criminal_org[df_criminal_org['policedistrict'] == 'Haridwar']\n"
   ]
  },
  {
   "cell_type": "code",
   "execution_count": 5,
   "id": "ad7dcd74",
   "metadata": {},
   "outputs": [],
   "source": [
    "ut_map_lc = folium.Map(location = [29.945690, 78.164246], zoom_start = 10, control_scale = True)\n",
    "df_criminal_org_1.apply(lambda row : folium.Marker(location = [row['latitude'], row['longitude']],\n",
    "                                            popup = row['incidentdescription'] + str(row['penalcode']),\n",
    "                                            icon = folium.Icon(icon = 'star empty', color = 'green', prefix = 'glyphicon')).add_to(ut_map_lc), axis = 1)\n",
    "\n",
    "\n",
    "ut_map_lc.save('crime_mapping_haridwar.html')"
   ]
  },
  {
   "cell_type": "code",
   "execution_count": null,
   "id": "f5969d0a",
   "metadata": {},
   "outputs": [],
   "source": []
  }
 ],
 "metadata": {
  "kernelspec": {
   "display_name": "Python 3 (ipykernel)",
   "language": "python",
   "name": "python3"
  },
  "language_info": {
   "codemirror_mode": {
    "name": "ipython",
    "version": 3
   },
   "file_extension": ".py",
   "mimetype": "text/x-python",
   "name": "python",
   "nbconvert_exporter": "python",
   "pygments_lexer": "ipython3",
   "version": "3.9.12"
  }
 },
 "nbformat": 4,
 "nbformat_minor": 5
}
