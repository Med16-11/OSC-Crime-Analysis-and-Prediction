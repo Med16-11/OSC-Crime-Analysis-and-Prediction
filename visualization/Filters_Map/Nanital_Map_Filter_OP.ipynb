{
 "cells": [
  {
   "cell_type": "code",
   "execution_count": 1,
   "id": "04284a34",
   "metadata": {},
   "outputs": [],
   "source": [
    "import folium\n",
    "from folium import plugins\n",
    "import ipywidgets\n",
    "import geocoder\n",
    "import geopy\n",
    "import pandas as pd\n",
    "import numpy as np\n",
    "#from vega_datasets import data as vds\n",
    "import plotly.express as px\n",
    "import json"
   ]
  },
  {
   "cell_type": "code",
   "execution_count": 2,
   "id": "0d50c42b",
   "metadata": {},
   "outputs": [],
   "source": [
    "criminal_csv = pd.read_csv(\"Final_DATASET - CRIME_ME.csv\") # read the data\n",
    "\n",
    "criminal_csv_1 = criminal_csv\n",
    "\n",
    "df_criminal_org = pd.DataFrame(criminal_csv_1) # transfer to dataframe\n",
    "df_criminal_org.dropna(inplace=True)\n",
    "df_criminal_org.drop('Unnamed: 0', axis=1, inplace=True)"
   ]
  },
  {
   "cell_type": "code",
   "execution_count": 3,
   "id": "fa53c231",
   "metadata": {},
   "outputs": [],
   "source": [
    "df_criminal_org_1 = df_criminal_org[df_criminal_org['policedistrict'] == 'Nanital']\n"
   ]
  },
  {
   "cell_type": "code",
   "execution_count": 5,
   "id": "742b7d57",
   "metadata": {},
   "outputs": [],
   "source": [
    "ut_map_lc = folium.Map(location = [29.380304, 79.463570], zoom_start = 10, control_scale = True)\n",
    "df_criminal_org_1.apply(lambda row : folium.Marker(location = [row['latitude'], row['longitude']],\n",
    "                                            popup = row['incidentdescription'] + str(row['penalcode']),\n",
    "                                            icon = folium.Icon(icon = 'star empty', color = 'green', prefix = 'glyphicon')).add_to(ut_map_lc), axis = 1)\n",
    "\n",
    "\n",
    "ut_map_lc.save('crime_mapping_nanital.html')"
   ]
  },
  {
   "cell_type": "code",
   "execution_count": null,
   "id": "d8e979a5",
   "metadata": {},
   "outputs": [],
   "source": []
  }
 ],
 "metadata": {
  "kernelspec": {
   "display_name": "Python 3 (ipykernel)",
   "language": "python",
   "name": "python3"
  },
  "language_info": {
   "codemirror_mode": {
    "name": "ipython",
    "version": 3
   },
   "file_extension": ".py",
   "mimetype": "text/x-python",
   "name": "python",
   "nbconvert_exporter": "python",
   "pygments_lexer": "ipython3",
   "version": "3.9.12"
  }
 },
 "nbformat": 4,
 "nbformat_minor": 5
}
