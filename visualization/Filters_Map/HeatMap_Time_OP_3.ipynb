{
 "cells": [
  {
   "cell_type": "code",
   "execution_count": 1,
   "id": "f2a22f3f",
   "metadata": {},
   "outputs": [],
   "source": [
    "import folium\n",
    "from folium import plugins\n",
    "import ipywidgets\n",
    "import geocoder\n",
    "import geopy\n",
    "import pandas as pd\n",
    "import numpy as np\n",
    "#from vega_datasets import data as vds\n",
    "import plotly.express as px\n",
    "import json\n",
    "from folium.plugins import MarkerCluster\n",
    "import random"
   ]
  },
  {
   "cell_type": "code",
   "execution_count": 2,
   "id": "50ab498c",
   "metadata": {},
   "outputs": [],
   "source": [
    "heatmap_time_data = (np.random.random((100, 20, 2)) + np.array([[30, 78]])).tolist()"
   ]
  },
  {
   "cell_type": "code",
   "execution_count": 4,
   "id": "4d9afb73",
   "metadata": {},
   "outputs": [],
   "source": [
    "heatmap_time_dates = [d.strftime('%Y-%m-%d') for d in pd.date_range('20190101', periods = len(heatmap_time_data))]\n",
    "map_heatmap_time = folium.Map([30.466496, 78.532188], tiles = 'CartoDB Positron', zoom_start = 9)\n",
    "heatmap_time_plugin = plugins.HeatMapWithTime(heatmap_time_data, index = heatmap_time_dates, radius = 75)\n",
    "heatmap_time_plugin.add_to(map_heatmap_time)\n",
    "map_heatmap_time.save('heamap_time.html')"
   ]
  },
  {
   "cell_type": "code",
   "execution_count": null,
   "id": "28cc1c78",
   "metadata": {},
   "outputs": [],
   "source": []
  }
 ],
 "metadata": {
  "kernelspec": {
   "display_name": "Python 3 (ipykernel)",
   "language": "python",
   "name": "python3"
  },
  "language_info": {
   "codemirror_mode": {
    "name": "ipython",
    "version": 3
   },
   "file_extension": ".py",
   "mimetype": "text/x-python",
   "name": "python",
   "nbconvert_exporter": "python",
   "pygments_lexer": "ipython3",
   "version": "3.9.12"
  }
 },
 "nbformat": 4,
 "nbformat_minor": 5
}
